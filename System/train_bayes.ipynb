{
 "cells": [
  {
   "cell_type": "code",
   "execution_count": 3,
   "id": "7e78aa94",
   "metadata": {},
   "outputs": [],
   "source": [
    "import pandas as pd\n",
    "import numpy as np\n",
    "import json\n",
    "from sklearn.model_selection import train_test_split\n",
    "from train_model import NaiveBayesImplementation, tokenize"
   ]
  },
  {
   "cell_type": "code",
   "execution_count": 4,
   "id": "ed051f9a",
   "metadata": {},
   "outputs": [],
   "source": [
    "df = pd.read_csv(\"../Dataset/Caption Data/stray_animal_captions_dataset.csv\")"
   ]
  },
  {
   "cell_type": "code",
   "execution_count": 3,
   "id": "6cc5c5ac",
   "metadata": {},
   "outputs": [],
   "source": [
    "df['Category'] = df['Category'].replace({\n",
    "    'Illegal': 'Illegal Activities',\n",
    "    'Illegal Activity': 'Illegal Activities'\n",
    "})"
   ]
  },
  {
   "cell_type": "code",
   "execution_count": 5,
   "id": "47adb723",
   "metadata": {},
   "outputs": [],
   "source": [
    "df.to_csv('stray_animal_captions_dataset.csv', index=False)"
   ]
  },
  {
   "cell_type": "code",
   "execution_count": 6,
   "id": "1cbbd61c",
   "metadata": {},
   "outputs": [
    {
     "data": {
      "text/html": [
       "<div>\n",
       "<style scoped>\n",
       "    .dataframe tbody tr th:only-of-type {\n",
       "        vertical-align: middle;\n",
       "    }\n",
       "\n",
       "    .dataframe tbody tr th {\n",
       "        vertical-align: top;\n",
       "    }\n",
       "\n",
       "    .dataframe thead th {\n",
       "        text-align: right;\n",
       "    }\n",
       "</style>\n",
       "<table border=\"1\" class=\"dataframe\">\n",
       "  <thead>\n",
       "    <tr style=\"text-align: right;\">\n",
       "      <th></th>\n",
       "      <th>Caption</th>\n",
       "      <th>Category</th>\n",
       "    </tr>\n",
       "  </thead>\n",
       "  <tbody>\n",
       "    <tr>\n",
       "      <th>0</th>\n",
       "      <td>Wounded animal lying on the road at Itahari. V...</td>\n",
       "      <td>Help</td>\n",
       "    </tr>\n",
       "    <tr>\n",
       "      <th>1</th>\n",
       "      <td>Puppy crying in pain at Pokhara. Please help!</td>\n",
       "      <td>Help</td>\n",
       "    </tr>\n",
       "    <tr>\n",
       "      <th>2</th>\n",
       "      <td>Wounded animal lying on the road at Butwal. Vo...</td>\n",
       "      <td>Help</td>\n",
       "    </tr>\n",
       "    <tr>\n",
       "      <th>3</th>\n",
       "      <td>Abandoned kitten found in Itahari. Looking for...</td>\n",
       "      <td>Help</td>\n",
       "    </tr>\n",
       "    <tr>\n",
       "      <th>4</th>\n",
       "      <td>Injured stray dog spotted near Butwal. Immedia...</td>\n",
       "      <td>Help</td>\n",
       "    </tr>\n",
       "  </tbody>\n",
       "</table>\n",
       "</div>"
      ],
      "text/plain": [
       "                                             Caption Category\n",
       "0  Wounded animal lying on the road at Itahari. V...     Help\n",
       "1      Puppy crying in pain at Pokhara. Please help!     Help\n",
       "2  Wounded animal lying on the road at Butwal. Vo...     Help\n",
       "3  Abandoned kitten found in Itahari. Looking for...     Help\n",
       "4  Injured stray dog spotted near Butwal. Immedia...     Help"
      ]
     },
     "execution_count": 6,
     "metadata": {},
     "output_type": "execute_result"
    }
   ],
   "source": [
    "df.head(5)"
   ]
  },
  {
   "cell_type": "code",
   "execution_count": 7,
   "id": "4a4b5abe",
   "metadata": {},
   "outputs": [],
   "source": [
    "X = df[\"Caption\"].astype(str).tolist()\n",
    "Y = df[\"Category\"].astype(str).tolist()"
   ]
  },
  {
   "cell_type": "code",
   "execution_count": 8,
   "id": "3e5f0079",
   "metadata": {},
   "outputs": [],
   "source": [
    "X_tokens = [tokenize(text) for text in X]"
   ]
  },
  {
   "cell_type": "code",
   "execution_count": 9,
   "id": "ae05e1bb",
   "metadata": {},
   "outputs": [],
   "source": [
    "X_train, X_test, y_train, y_test = train_test_split(X_tokens, Y, test_size=0.2, random_state=42)"
   ]
  },
  {
   "cell_type": "code",
   "execution_count": 10,
   "id": "b86c3acb",
   "metadata": {},
   "outputs": [],
   "source": [
    "model = NaiveBayesImplementation(alpha=1.0)"
   ]
  },
  {
   "cell_type": "code",
   "execution_count": 11,
   "id": "e71b53b1",
   "metadata": {},
   "outputs": [],
   "source": [
    "model.fit(X_train,y_train)"
   ]
  },
  {
   "cell_type": "code",
   "execution_count": 12,
   "id": "95ff9724",
   "metadata": {},
   "outputs": [],
   "source": [
    "y_pred = model.predict(X_test)"
   ]
  },
  {
   "cell_type": "code",
   "execution_count": 13,
   "id": "4188e6d6",
   "metadata": {},
   "outputs": [
    {
     "data": {
      "text/plain": [
       "1.0"
      ]
     },
     "execution_count": 13,
     "metadata": {},
     "output_type": "execute_result"
    }
   ],
   "source": [
    "accuracy = float(np.mean([p == t for p, t in zip(y_pred, y_test)]))\n",
    "accuracy"
   ]
  },
  {
   "cell_type": "code",
   "execution_count": 14,
   "id": "31f4b0d1",
   "metadata": {},
   "outputs": [],
   "source": [
    "with open(\"naive_bayes_model.json\", \"w\", encoding=\"utf-8\") as f:\n",
    "    f.write(model.to_json())"
   ]
  },
  {
   "cell_type": "code",
   "execution_count": 15,
   "id": "6a8f390b",
   "metadata": {},
   "outputs": [],
   "source": [
    "import json\n",
    "import math\n",
    "import re"
   ]
  },
  {
   "cell_type": "code",
   "execution_count": 16,
   "id": "77d5f824",
   "metadata": {},
   "outputs": [],
   "source": [
    "with open(\"naive_bayes_model.json\", \"r\") as f:\n",
    "    loaded_model = json.load(f)\n"
   ]
  },
  {
   "cell_type": "code",
   "execution_count": 17,
   "id": "675f5620",
   "metadata": {},
   "outputs": [],
   "source": [
    "class_priors = loaded_model[\"class_priors_log\"]\n",
    "token_likelihoods = loaded_model[\"likelihoods_log\"]\n",
    "vocab = loaded_model[\"vocab\"]\n",
    "vocab_size = len(vocab)"
   ]
  },
  {
   "cell_type": "code",
   "execution_count": 18,
   "id": "02cc4582",
   "metadata": {},
   "outputs": [],
   "source": [
    "STOPWORDS = {\n",
    "    \"a\",\"an\",\"the\",\"and\",\"or\",\"if\",\"in\",\"on\",\"of\",\"for\",\"to\",\"from\",\"is\",\"are\",\"was\",\"were\",\n",
    "    \"be\",\"been\",\"being\",\"it\",\"its\",\"this\",\"that\",\"these\",\"those\",\"as\",\"at\",\"by\",\"with\",\"but\",\n",
    "    \"about\",\"into\",\"over\",\"after\",\"before\",\"while\",\"so\",\"no\",\"not\",\"too\",\"very\",\"can\",\"cannot\",\n",
    "    \"we\",\"you\",\"your\",\"yours\",\"our\",\"ours\",\"they\",\"them\",\"their\",\"theirs\",\"he\",\"she\",\"his\",\"her\",\n",
    "    \"i\",\"me\",\"my\",\"mine\",\"do\",\"does\",\"did\",\"doing\",\"have\",\"has\",\"had\",\"having\",\"will\",\"would\",\n",
    "    \"should\",\"could\",\"may\",\"might\",\"also\",\"than\",\"then\",\"there\",\"here\",\"up\",\"down\",\"out\",\n",
    "    \"just\",\"like\"\n",
    "}"
   ]
  },
  {
   "cell_type": "code",
   "execution_count": 19,
   "id": "7137f93e",
   "metadata": {},
   "outputs": [],
   "source": [
    "def tokenize(text):\n",
    "    text = text.lower()\n",
    "    text = re.sub(r\"http\\S+|www\\.\\S+\", \" \", text)\n",
    "    text = re.sub(r\"[@#]\\w+\", \" \", text)\n",
    "    tokens = re.findall(r\"[a-z]+\", text)\n",
    "    return [t for t in tokens if t not in STOPWORDS and len(t) > 1]\n"
   ]
  },
  {
   "cell_type": "code",
   "execution_count": 20,
   "id": "3b9cae64",
   "metadata": {},
   "outputs": [],
   "source": [
    "def predict(text):\n",
    "    tokens = tokenize(text)\n",
    "    scores = {}\n",
    "    \n",
    "    for cls in class_priors:\n",
    "        scores[cls] = class_priors[cls]\n",
    "        \n",
    "        for token in tokens:\n",
    "            if token in vocab:  \n",
    "                word_index = vocab[token]  \n",
    "                scores[cls] += token_likelihoods[cls][word_index]  \n",
    "            else:\n",
    "               \n",
    "                scores[cls] += math.log(1e-6)  \n",
    "    \n",
    "    return max(scores, key=scores.get)"
   ]
  },
  {
   "cell_type": "code",
   "execution_count": 32,
   "id": "57eb6912",
   "metadata": {},
   "outputs": [],
   "source": [
    "sample = \"A boy fed poison to a dog\"\n"
   ]
  },
  {
   "cell_type": "code",
   "execution_count": 33,
   "id": "08caeecb",
   "metadata": {},
   "outputs": [
    {
     "name": "stdout",
     "output_type": "stream",
     "text": [
      "Illegal Activities\n"
     ]
    }
   ],
   "source": [
    "print(predict(sample))"
   ]
  },
  {
   "cell_type": "code",
   "execution_count": 22,
   "id": "0a68302e",
   "metadata": {},
   "outputs": [
    {
     "data": {
      "text/html": [
       "<div>\n",
       "<style scoped>\n",
       "    .dataframe tbody tr th:only-of-type {\n",
       "        vertical-align: middle;\n",
       "    }\n",
       "\n",
       "    .dataframe tbody tr th {\n",
       "        vertical-align: top;\n",
       "    }\n",
       "\n",
       "    .dataframe thead th {\n",
       "        text-align: right;\n",
       "    }\n",
       "</style>\n",
       "<table border=\"1\" class=\"dataframe\">\n",
       "  <thead>\n",
       "    <tr style=\"text-align: right;\">\n",
       "      <th></th>\n",
       "      <th>Caption</th>\n",
       "      <th>Category</th>\n",
       "    </tr>\n",
       "  </thead>\n",
       "  <tbody>\n",
       "    <tr>\n",
       "      <th>0</th>\n",
       "      <td>Wounded animal lying on the road at Itahari. V...</td>\n",
       "      <td>Help</td>\n",
       "    </tr>\n",
       "    <tr>\n",
       "      <th>1</th>\n",
       "      <td>Puppy crying in pain at Pokhara. Please help!</td>\n",
       "      <td>Help</td>\n",
       "    </tr>\n",
       "    <tr>\n",
       "      <th>2</th>\n",
       "      <td>Wounded animal lying on the road at Butwal. Vo...</td>\n",
       "      <td>Help</td>\n",
       "    </tr>\n",
       "    <tr>\n",
       "      <th>3</th>\n",
       "      <td>Abandoned kitten found in Itahari. Looking for...</td>\n",
       "      <td>Help</td>\n",
       "    </tr>\n",
       "    <tr>\n",
       "      <th>4</th>\n",
       "      <td>Injured stray dog spotted near Butwal. Immedia...</td>\n",
       "      <td>Help</td>\n",
       "    </tr>\n",
       "    <tr>\n",
       "      <th>...</th>\n",
       "      <td>...</td>\n",
       "      <td>...</td>\n",
       "    </tr>\n",
       "    <tr>\n",
       "      <th>19995</th>\n",
       "      <td>Free rabies vaccination for street dogs in Pok...</td>\n",
       "      <td>Vaccination</td>\n",
       "    </tr>\n",
       "    <tr>\n",
       "      <th>19996</th>\n",
       "      <td>Urgent help needed for injured stray puppy #9996</td>\n",
       "      <td>Help</td>\n",
       "    </tr>\n",
       "    <tr>\n",
       "      <th>19997</th>\n",
       "      <td>Looking to adopt a 2-month-old vaccinated kitt...</td>\n",
       "      <td>Adoption</td>\n",
       "    </tr>\n",
       "    <tr>\n",
       "      <th>19998</th>\n",
       "      <td>Local butcher illegally killed a street dog. A...</td>\n",
       "      <td>Illegal Activities</td>\n",
       "    </tr>\n",
       "    <tr>\n",
       "      <th>19999</th>\n",
       "      <td>Free rabies vaccination for street dogs in Pok...</td>\n",
       "      <td>Vaccination</td>\n",
       "    </tr>\n",
       "  </tbody>\n",
       "</table>\n",
       "<p>20000 rows × 2 columns</p>\n",
       "</div>"
      ],
      "text/plain": [
       "                                                 Caption            Category\n",
       "0      Wounded animal lying on the road at Itahari. V...                Help\n",
       "1          Puppy crying in pain at Pokhara. Please help!                Help\n",
       "2      Wounded animal lying on the road at Butwal. Vo...                Help\n",
       "3      Abandoned kitten found in Itahari. Looking for...                Help\n",
       "4      Injured stray dog spotted near Butwal. Immedia...                Help\n",
       "...                                                  ...                 ...\n",
       "19995  Free rabies vaccination for street dogs in Pok...         Vaccination\n",
       "19996   Urgent help needed for injured stray puppy #9996                Help\n",
       "19997  Looking to adopt a 2-month-old vaccinated kitt...            Adoption\n",
       "19998  Local butcher illegally killed a street dog. A...  Illegal Activities\n",
       "19999  Free rabies vaccination for street dogs in Pok...         Vaccination\n",
       "\n",
       "[20000 rows x 2 columns]"
      ]
     },
     "execution_count": 22,
     "metadata": {},
     "output_type": "execute_result"
    }
   ],
   "source": [
    "df"
   ]
  },
  {
   "cell_type": "code",
   "execution_count": 23,
   "id": "ca42c977",
   "metadata": {},
   "outputs": [
    {
     "name": "stdout",
     "output_type": "stream",
     "text": [
      "Class distribution in training data:\n",
      "Illegal Activities: 4003 samples\n",
      "Adoption: 3986 samples\n",
      "Vaccination: 3989 samples\n",
      "Help: 4022 samples\n"
     ]
    }
   ],
   "source": [
    "from collections import Counter\n",
    "\n",
    "# Check if your training data is imbalanced\n",
    "class_counts = Counter(y_train)\n",
    "print(\"Class distribution in training data:\")\n",
    "for cls, count in class_counts.items():\n",
    "    print(f\"{cls}: {count} samples\")"
   ]
  },
  {
   "cell_type": "code",
   "execution_count": null,
   "id": "eeebe8ca",
   "metadata": {},
   "outputs": [],
   "source": []
  }
 ],
 "metadata": {
  "kernelspec": {
   "display_name": "deeplearn",
   "language": "python",
   "name": "python3"
  },
  "language_info": {
   "codemirror_mode": {
    "name": "ipython",
    "version": 3
   },
   "file_extension": ".py",
   "mimetype": "text/x-python",
   "name": "python",
   "nbconvert_exporter": "python",
   "pygments_lexer": "ipython3",
   "version": "3.11.11"
  }
 },
 "nbformat": 4,
 "nbformat_minor": 5
}
